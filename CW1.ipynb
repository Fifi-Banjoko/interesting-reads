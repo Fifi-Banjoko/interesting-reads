{
 "cells": [
  {
   "cell_type": "markdown",
   "id": "e333086d",
   "metadata": {},
   "source": [
    "# Coursework 1"
   ]
  },
  {
   "cell_type": "markdown",
   "id": "9db4fd8c",
   "metadata": {},
   "source": [
    "## 1.&nbsp;Introduction"
   ]
  },
  {
   "cell_type": "markdown",
   "id": "c7e61a05",
   "metadata": {},
   "source": [
    "In an era dominated by digital communication, social media platforms have become powerful tools for connectivity and expression. However, this newfound connectivity has brought with it the insidious rise of hateful speech and toxic behavior, posing significant challenges for maintaining a healthy online discourse. Recognizing the evolving nature of such harmful content, traditional text classifiers often fall short in accurately identifying and mitigating instances where individuals creatively replace letters with symbols to disguise their derogatory language.\n",
    "\n",
    "This underscores the critical need for an advanced text classification system, one that not only distinguishes hateful from non-hateful content but also possesses the sophistication to decipher the subtle nuances of symbol-laden expressions. Enter a text classifier designed to address the growing sophistication of language manipulation on social media. By leveraging cutting-edge natural language processing (NLP) techniques, this algorithm transcends the limitations of conventional models, offering a robust defense against the ever-expanding arsenal of creative obfuscation tactics employed by individuals seeking to spread hate.\n",
    "\n",
    "This innovative system goes beyond mere pattern recognition, delving into the intricate interplay of characters and symbols to decipher the true intent behind a message. As social media users continue to push the boundaries of linguistic camouflage, this text classifier rises to the occasion, standing as a beacon of vigilance against the proliferation of hate speech in online communities. In the following exploration, the domain-specific ares, domain-specific area, objectives, dataset, evaluation methodology, architecture and capabilities of this tool are delved into."
   ]
  },
  {
   "cell_type": "markdown",
   "id": "5793011e",
   "metadata": {},
   "source": [
    "### 1.1&nbsp;Domain-specific Area"
   ]
  },
  {
   "cell_type": "markdown",
   "id": "05eebb92",
   "metadata": {},
   "source": [
    "Traditional text classifiers often struggle to effectively address the evolving sophistication of language manipulation employed by individuals seeking to spread hate. To bridge this gap, recent research has focused on the development of innovative text classification systems that leverage cutting-edge natural language processing (NLP) techniques to decipher the subtle nuances of symbol-laden expressions and creatively obfuscated language (Gitari et al. 2015). This literature review aims to explore the domain-specific areas, objectives, datasets, evaluation methodologies, architectures, and capabilities of state-of-the-art hate speech detection classifiers, with a focus on the advancements in machine learning and deep learning-based approaches.\n",
    "\n",
    "Several scholarly works have delved into the landscape of hate speech Fortuna et al. 2018, provided a detailed overview of hate speech automatic detection using machine learning and deep learning models, highlighting the binary and multi-class output considerations in hate speech detection. Furthermore, a systematic literature review by Mohiyaddeen et al. (2021) examined different machine learning methods for hate speech detection and experimental approaches in this critical area.\n",
    "\n",
    "Some existing literature focus on specific groups that are subject to hate speech. Kwarteng et al (2022) explores the complexities and challenges associated with detecting misogynoir, which refers to the anti-Black forms of misogyny that Black women experience. The study highlights the inherent subjectivity and intersectional nature of misogynoir, which combines racism and sexism, making it particularly challenging to detect. González-Pizarro and Zannettou (2023), introduce a large pre-trained model that utilizes the Contrastive Learning paradigm to identify and understand and identify a set of Antisemitic and Islamophobic hateful textual phrases on the web.\n",
    "\n",
    "The existing literature has also identified several gaps and challenges in hate speech detection, including the need for robust feature sets that can be applied to diverse datasets, as well as the development of methodologies for rigorous dataset comparison and evaluation. In terms of the ethics of hate speech classification, Davidson et al (2019) examines racial bias in five different sets of Twitter data annotated for hate speech and abusive language. The study trains classifiers on these datasets and compares the predictions of these classifiers on tweets. The results demonstrate evidence of systematic racial bias in all datasets, as classifiers trained on them tend to predict that tweets written in African-American English are more likely to be abusive. The paper highlights the potential discriminatory impact of using these abusive language detection systems, particularly against groups that are often the targets of abuse. "
   ]
  },
  {
   "cell_type": "markdown",
   "id": "34f99d13",
   "metadata": {},
   "source": [
    "### 1.2&nbsp;Objectives"
   ]
  },
  {
   "cell_type": "markdown",
   "id": "d7ca55c7",
   "metadata": {},
   "source": [
    "The objectives of this text classifier are multi-faceted, aiming to address the intricate challenges posed by the creative manipulation of language, particularly in the context of identifying and mitigating hateful speech on social media platforms.<br>\n",
    "\n",
    "1. **Enhanced Accuracy**: The primary goal is to significantly improve the accuracy of hate speech detection by developing a classifier that can decipher the subtle nuances of disguised expressions, including instances where users replace letters with symbols or numbers.<br>\n",
    "2. **Adaptability to Linguistic Creativity**: The classifier seeks to be adaptive to the dynamic and evolving nature of linguistic manipulation on social media. It aims to stay ahead of emerging trends in creative obfuscation, ensuring an ongoing ability to accurately identify and categorize offensive content.<br>\n",
    "3. **Robust Defense Mechanism**: The text classifier aims to serve as a robust defense mechanism against the proliferation of hate speech, providing an effective filter to mitigate the negative impact of toxic content on user experience and community well-being.<br>\n",
    "4. **Inclusivity and Respect**: In addition to detecting hate speech, the classifier aspires to promote inclusivity and respect by fostering a digital environment where users feel safe from discriminatory language. It seeks to contribute to the creation of online spaces that encourage positive discourse and discourage harmful interactions.<br>\n",
    "5. **Continuous Learning and Improvement**: The classifier is designed to employ machine learning techniques for continuous learning and improvement. By analyzing new patterns of linguistic manipulation, it aims to adapt its algorithms over time to maintain efficacy in the face of evolving strategies employed by individuals spreading hate.<br>\n",
    "6. **Industry and Social Impact**: Beyond technical objectives, the classifier aims to make a positive impact on both the social media industry and the broader online community. By addressing the challenges of hate speech, it contributes to the creation of a more respectful and inclusive digital landscape.<br>"
   ]
  },
  {
   "cell_type": "markdown",
   "id": "ebcb6375",
   "metadata": {},
   "source": [
    "### 1.3. &nbsp;Dataset"
   ]
  },
  {
   "cell_type": "markdown",
   "id": "f4ac2252",
   "metadata": {},
   "source": [
    "This classifier leverages supervised machine learning, relying on labeled hate speech text for effective training. Numerous annotated hate speech datasets are available, targeting various forms of abusive and hateful language such as racism, misogyny, sexism, homophobia, and religious hate. Notable datasets include The Gab Hate Corpus and UCBerkeley's Measuring Hate Speech Corpus (Vidgen & Derczynski, 2020). However, hate speech is intricate, tied to group dynamics, and depends on subtle linguistic nuances (Fortuna & Nunes, 2018). As González & Zannettou, 2023 pointed out, existing datasets often focus on specific modalities within hate speech, aligning with their particular definitions.\n",
    "\n",
    "Thus, to construct a robust classifier accommodating diverse definitions of hate speech, three distinct datasets were combined from prominent online platforms—Twitter, Reddit, 4Chan, and YouTube. The first dataset, derived from HateSonar on Twitter, encompasses six columns: tweet (lightly preprocessed tweets), count (number of CrowdFlower users coding each tweet), hate_speech (number of users judging the tweet as hate speech), offensive_language (number of users judging the tweet as offensive), neither (number of users judging the tweet as neither offensive nor non-offensive), and class label (0 for hate speech, 1 for offensive language, 2 for neither). The second dataset, Figshare's Labelled Hate Speech Detection Dataset, comprises three columns: platform (where the data was obtained), comment (text data), and hateful label (0 for not hateful, 1 for hateful), incorporating data from Reddit, Twitter, and 4Chan. The third dataset, UCBerkeley's Measuring Hate Speech Corpus of over 100,000 text instances, includes mixed social media comments with notable columns such as hate speech score (continuous hate speech measure) and hatespeech (class label: 0 for non-hateful, 1 for offensive language, 2 for hate speech).\n",
    "\n",
    "These datasets were merged, subset and preprocessed, resulting in a balanced dataset of 10,000 data points, evenly distributed between 5,000 instances of hate speech and 5,000 instances of non-hate speech. The final dataset includes two columns: \"text,\" containing the text data as strings, and \"hateful,\" a binary integer column with 0 for non-hateful labels and 1 for hateful labels."
   ]
  },
  {
   "cell_type": "markdown",
   "id": "72b6ec85",
   "metadata": {},
   "source": [
    "### 1.4. &nbsp;Evaluation methodology"
   ]
  },
  {
   "cell_type": "markdown",
   "id": "7a7af0ab",
   "metadata": {},
   "source": [
    "Given the nature of this hate speech classification, where false positives (misclassifying non-hateful content as hateful) and false negatives (misclassifying hateful content as non-hateful) can have different implications, a combination of **precision**, **recall**, and **F1 score** is used as the main evaluation metrics. High precision is crucial when false positives are costly or undesirable. In the context of hate speech classification, mislabeling non-hateful content as hateful might lead to unnecessary restrictions on user expression, so minimizing false positives is important. High recall is important when false negatives are costly. In the context of hate speech, missing instances of actual hate speech can have severe consequences, so capturing as many instances as possible is crucia. F1 score is a harmonic mean of precision and recall and provides a balanced measure. It is suitable when there is a need to strike a balance between minimising false positives and false negatives.\n",
    "\n",
    "This combination of metrics is used to get a comprehensive understanding of the classifier's performance.  After carefully analysing the potential consequences of false positives and false negatives in this application, the primary concern is to ensure that as much actual hate speech as possible is detected and mitigated, even at the cost of some false positives, hence **recall** is prioritised. Emphasising recall aims to capture a higher proportion of true positive instances, reducing the chances of missing actual instances of hate speech. In practical application of this classifier prioritisation is regularly reassessed and adjusted based on user feedback, evolving requirements, and societal impact."
   ]
  },
  {
   "cell_type": "markdown",
   "id": "a94c61fc",
   "metadata": {},
   "source": [
    "---"
   ]
  },
  {
   "cell_type": "markdown",
   "id": "a54581ad",
   "metadata": {},
   "source": [
    "## 2. &nbsp;Implementation"
   ]
  },
  {
   "cell_type": "code",
   "execution_count": 1,
   "id": "ade7aa05",
   "metadata": {},
   "outputs": [
    {
     "name": "stderr",
     "output_type": "stream",
     "text": [
      "/Users/fisayo/opt/anaconda3/envs/nn_cw/lib/python3.7/site-packages/tqdm/auto.py:22: TqdmWarning: IProgress not found. Please update jupyter and ipywidgets. See https://ipywidgets.readthedocs.io/en/stable/user_install.html\n",
      "  from .autonotebook import tqdm as notebook_tqdm\n",
      "Using TensorFlow backend.\n"
     ]
    }
   ],
   "source": [
    "import re\n",
    "import emot\n",
    "import spacy\n",
    "import string\n",
    "import nltk\n",
    "import enchant\n",
    "import langid\n",
    "import datasets \n",
    "import joblib\n",
    "import numpy as np\n",
    "import pandas as pd\n",
    "from tqdm import tqdm\n",
    "# !python -m spacy download en_core_web_md\n",
    "import numpy as np\n",
    "import xgboost as xgb\n",
    "from hatesonar import Sonar\n",
    "from sklearn.svm import SVC\n",
    "import matplotlib.pyplot as plt\n",
    "from keras.metrics import Recall\n",
    "from nltk.corpus import stopwords\n",
    "from spellchecker import SpellChecker\n",
    "from sklearn.pipeline import Pipeline\n",
    "from nltk.tokenize import word_tokenize\n",
    "from nltk.stem import WordNetLemmatizer\n",
    "from sklearn.naive_bayes import MultinomialNB\n",
    "from tensorflow.keras.models import Sequential\n",
    "from sklearn.preprocessing import StandardScaler\n",
    "from sklearn.neighbors import KNeighborsClassifier\n",
    "from sklearn.linear_model import LogisticRegression\n",
    "from sklearn.model_selection import TimeSeriesSplit\n",
    "from sklearn.ensemble import RandomForestClassifier\n",
    "from tensorflow.keras.optimizers import RMSprop, Adam\n",
    "from keras.wrappers.scikit_learn import KerasRegressor\n",
    "from tensorflow.keras.preprocessing.text import Tokenizer\n",
    "from tensorflow.keras.layers import Embedding, LSTM, Dense\n",
    "from tensorflow.keras.preprocessing.sequence import pad_sequences\n",
    "from tensorflow.keras.wrappers.scikit_learn import KerasClassifier\n",
    "from sklearn.feature_extraction.text import CountVectorizer, TfidfVectorizer\n",
    "from sklearn.model_selection import train_test_split, GridSearchCV, StratifiedKFold\n",
    "from sklearn.metrics import accuracy_score, classification_report, confusion_matrix, make_scorer, recall_score"
   ]
  },
  {
   "cell_type": "markdown",
   "id": "ad82a251",
   "metadata": {},
   "source": [
    "### 2.1.&nbsp;Preprocessing"
   ]
  },
  {
   "cell_type": "markdown",
   "id": "0ab8f458",
   "metadata": {},
   "source": [
    "As expected with text data, several preprocessing techniques are applied to the dataset. The first issue is the imbalance of hateful instances to non-hateful instances in the datasets. To mitigate this without having to apply techniques to an imbalanced dataset, hateful instances from the different dataset are pooled together, likewise for the non-hateful instances. This results in some data being used from each of the datasets. After, natural language preprocessing techniques necessary for social media data such as removing emoticons and emojis, removing punctuation, removing usernames and hashtags, lemmatizing, removing stop words and correcting spelling of words (so misspelled stopwords will also be removed) are applied. Some context specific preprocessing techniques such as removing standalone numerics but not numerics in between words and handling letter variations for when number and symbols are swapped for letters when hateful speech is used are also applied. \n",
    "\n",
    "A hate speech lexicon obtained from the Ethos Hate Speech Detection Dataset documentation was used to check for mislabeled instances of hate speech in text data that was classified as non-hateful. This was done to properly define what would be considered hatespeech for this classifier and mitigate any annotator error or opposing opinions. Words that belong to this lexicon are not corrected for spelling. The count of mislabelled instances is also retrieved. The final dataset is created and saved as a csv file after all preprocessing techniques are applied and null and duplicate values are skipped."
   ]
  },
  {
   "cell_type": "markdown",
   "id": "4b44149f",
   "metadata": {},
   "source": [
    "#### 2.1.1&nbsp;Importing datasets"
   ]
  },
  {
   "cell_type": "code",
   "execution_count": 2,
   "id": "7facd1f8",
   "metadata": {},
   "outputs": [
    {
     "name": "stdout",
     "output_type": "stream",
     "text": [
      "Number of hateful instances in dataset 1:  1430\n",
      "Number of non-hateful instances in dataset 1:  4163\n"
     ]
    }
   ],
   "source": [
    "# First dataset from HateSonar\n",
    "df = pd.read_csv(\"labeled_data.csv\")\n",
    "df = df.loc[(df['class']==0) | (df['class']==2)]\n",
    "df.drop(['Unnamed: 0', 'count', 'hate_speech', 'offensive_language', 'neither'], axis= 1, inplace=True)\n",
    "\n",
    "df.rename(columns={'tweet':'text', 'class': 'hateful'}, inplace=True) \n",
    "df['hateful'].replace({0:1, 2:0}, inplace=True) # one hot encode\n",
    "# df.head()\n",
    "print('Number of hateful instances in dataset 1: ', len(df[df['hateful']==1]))\n",
    "print('Number of non-hateful instances in dataset 1: ', len(df[df['hateful']==0]))"
   ]
  },
  {
   "cell_type": "code",
   "execution_count": 3,
   "id": "9754938f",
   "metadata": {},
   "outputs": [
    {
     "name": "stdout",
     "output_type": "stream",
     "text": [
      "Number of hateful instances in dataset 2:  600\n",
      "Number of non-hateful instances in dataset 2:  2400\n"
     ]
    }
   ],
   "source": [
    "# Getting hateful instances from another dataframe from Figshare\n",
    "df2 = pd.read_csv('HateSpeechDetection.csv')\n",
    "df2.drop('Platform', axis= 1, inplace=True)\n",
    "df2.rename(columns={'Comment': 'text', 'Hateful': 'hateful'}, inplace=True) \n",
    "\n",
    "print('Number of hateful instances in dataset 2: ', len(df2[df2['hateful']==1]))\n",
    "print('Number of non-hateful instances in dataset 2: ', len(df2[df2['hateful']==0]))"
   ]
  },
  {
   "cell_type": "code",
   "execution_count": 4,
   "id": "f68396dc",
   "metadata": {
    "scrolled": true
   },
   "outputs": [
    {
     "name": "stderr",
     "output_type": "stream",
     "text": [
      "Found cached dataset parquet (/Users/fisayo/.cache/huggingface/datasets/ucberkeley-dlab___parquet/ucberkeley-dlab--measuring-hate-speech-cd96c7d7a29268f7/0.0.0/14a00e99c0d15a23649d0db8944380ac81082d4b021f398733dd84f3a6c569a7)\n",
      "100%|█████████████████████████████████████████████| 1/1 [00:00<00:00, 15.16it/s]\n"
     ]
    },
    {
     "name": "stdout",
     "output_type": "stream",
     "text": [
      "Number of hateful instances in dataset 3:  46021\n",
      "Number of non-hateful instances in dataset 3:  89535\n"
     ]
    }
   ],
   "source": [
    "# Measuring Hate Speech dataset from ucberkeley\n",
    "dataset = datasets.load_dataset('ucberkeley-dlab/measuring-hate-speech', 'binary')   \n",
    "df3 = dataset['train'].to_pandas()\n",
    "for col in df3.columns:\n",
    "    if col == 'hatespeech' or col == 'text':\n",
    "        continue\n",
    "    df3.drop(col, axis=1, inplace=True)\n",
    "df3.rename(columns={'hatespeech': 'hateful'}, inplace=True)\n",
    "df3['hateful'].replace({1:0, 2:1}, inplace=True)\n",
    "df3['hateful'] = df3['hateful'].astype(int)\n",
    "\n",
    "print('Number of hateful instances in dataset 3: ', len(df3[df3['hateful']==1]))\n",
    "print('Number of non-hateful instances in dataset 3: ', len(df3[df3['hateful']==0]))"
   ]
  },
  {
   "cell_type": "markdown",
   "id": "7d467300",
   "metadata": {},
   "source": [
    "#### 2.2.2&nbsp;Preprocessing functions"
   ]
  },
  {
   "cell_type": "code",
   "execution_count": 5,
   "id": "51a40e49",
   "metadata": {},
   "outputs": [],
   "source": [
    "# Define hate speech lexicon\n",
    "hate_speech_lexicon = ['boojie', 'surrender monkey', 'chinaman', 'hillbilly', 'whigger', 'white nigger', \n",
    "                       'wigger', 'wigerette', 'bitter clinger', 'redneck', 'rube', 'trailer park trash', \n",
    "                       'trailer trash', 'white trash', 'yobbo', 'retard', 'retarded', 'jigaboo', ''\n",
    "                       'nigger', 'coonass', 'raghead', 'house nigger', 'camel fucker', 'moon cricket', \n",
    "                       'wetback', 'spic', 'bint', 'cunt', 'dyke', 'twat', 'bamboo coon', 'limey', 'plastic paddy', \n",
    "                       'sideways pussy', 'zionazi', 'muzzie', 'soup taker', 'homo', 'lesbo'\n",
    "                       'negroid', 'chink', 'dyke', 'faggot', 'femoid', 'jihadi', 'inbred', \n",
    "                       'porch monkey', 'tramp', 'fag', 'wicca', 'tranny', 'twink', 'whore', 'hoe']"
   ]
  },
  {
   "cell_type": "code",
   "execution_count": 6,
   "id": "430fc5d5",
   "metadata": {},
   "outputs": [
    {
     "name": "stdout",
     "output_type": "stream",
     "text": [
      "I love python     <3\n"
     ]
    }
   ],
   "source": [
    "def remove_emoticons_and_emojis(text):\n",
    "     \"\"\"\n",
    "    Remove emojis and emoticons from the given text.\n",
    "\n",
    "    Parameters:\n",
    "    - text (str): The input text containing emojis and/or emoticons.\n",
    "\n",
    "    Returns:\n",
    "    str: The input text with emojis and emoticons removed.\n",
    "    \n",
    "    \"\"\"\n",
    "        \n",
    "    # create emot object\n",
    "    emot_obj = emot.core.emot()\n",
    "    \n",
    "    # Remove emojis\n",
    "    emojis = emot_obj.emoji(text)\n",
    "    for emoji in emojis['value']:\n",
    "        text = text.replace(emoji, ' ')\n",
    "\n",
    "    # Remove emoticons\n",
    "    emoticons = emot_obj.emoticons(text)\n",
    "    for emoticon in emoticons['value']:\n",
    "        text = text.replace(emoticon, ' ')\n",
    "\n",
    "    return text\n",
    "\n",
    "# Example usage\n",
    "text = \"I love python 👨 :-) <3\"\n",
    "text_without_emoticons_emojis = remove_emoticons_and_emojis(text)\n",
    "print(text_without_emoticons_emojis)"
   ]
  },
  {
   "cell_type": "code",
   "execution_count": 53,
   "id": "a0a005ca",
   "metadata": {},
   "outputs": [],
   "source": [
    "def remove_standalone_numerics(text):\n",
    "    \"\"\"\n",
    "    Removes standalone numerical characters from the input text.\n",
    "\n",
    "    Parameters:\n",
    "    - text (str): The input text from which standalone numerical characters will be removed.\n",
    "\n",
    "    Returns:\n",
    "    - str: The input text with standalone numerical characters removed.\n",
    "    \n",
    "    \"\"\"\n",
    "    \n",
    "    # Define a regular expression to match standalone numerical characters\n",
    "    numeric_pattern = r'\\b\\d+\\b'\n",
    "    \n",
    "    # Use re.sub to replace matches with an empty string\n",
    "    text_without_numerics = re.sub(numeric_pattern, '', text)\n",
    "    \n",
    "    return text_without_numerics"
   ]
  },
  {
   "cell_type": "code",
   "execution_count": 54,
   "id": "9f8f3ee2",
   "metadata": {},
   "outputs": [],
   "source": [
    "def remove_punctuation(text):\n",
    "    \"\"\"\n",
    "    Remove punctuation marks from a given text.\n",
    "\n",
    "    Parameters:\n",
    "    - text (str): The input text from which punctuation marks should be removed.\n",
    "\n",
    "    Returns:\n",
    "    - str: The processed text with punctuation marks removed.\n",
    "    \n",
    "    \"\"\"\n",
    "    \n",
    "    # Define a regular expression pattern to match punctuation not surrounded by letters\n",
    "    pattern = re.compile(r'(?<![a-zA-Z])[' + re.escape(string.punctuation) + r'](?![a-zA-Z])')\n",
    "    \n",
    "    # Use the pattern to replace matched punctuation with an empty string\n",
    "    processed_text = pattern.sub('', text)\n",
    "    \n",
    "    return processed_text"
   ]
  },
  {
   "cell_type": "code",
   "execution_count": 55,
   "id": "c0b5dea9",
   "metadata": {},
   "outputs": [],
   "source": [
    "def remove_usernames_and_hashtags(text):\n",
    "    \"\"\"\n",
    "    Removes usernames and hashtags from the input text.\n",
    "\n",
    "    Parameters:\n",
    "    - text (str): The input text containing usernames and hashtags.\n",
    "\n",
    "    Returns:\n",
    "    str: The cleaned text with usernames and hashtags removed.\n",
    "    \n",
    "    \"\"\"\n",
    "    \n",
    "    # Define the pattern to identify usernames\n",
    "    username_pattern = re.compile(r'@[\\w\\d_]+:?')\n",
    "    \n",
    "    # Define the pattern to identify hashtags\n",
    "    hashtag_pattern = re.compile(r'#\\w+')\n",
    "\n",
    "    # Use regex to find and replace usernames with an empty string\n",
    "    cleaned_text = re.sub(username_pattern, '', text)\n",
    "    \n",
    "    # Use regex to find and replace hashtags with an empty string\n",
    "    cleaned_text = re.sub(hashtag_pattern, '', cleaned_text)\n",
    "\n",
    "    return cleaned_text"
   ]
  },
  {
   "cell_type": "code",
   "execution_count": 56,
   "id": "6f0e7a2f",
   "metadata": {},
   "outputs": [],
   "source": [
    "def remove_stopwords(text):\n",
    "    \"\"\"\n",
    "    Remove stopwords from the input text.\n",
    "\n",
    "    Parameters:\n",
    "    - text (str): Input text from which stopwords will be removed.\n",
    "\n",
    "    Returns:\n",
    "    - list of str: List of words from the input text with stopwords removed.\n",
    "\n",
    "    Note:\n",
    "    Stopwords are common words that are often excluded from text processing because they \n",
    "    typically do not contribute much to the meaning of the text. The function uses NLTK \n",
    "    stopwords along with custom stopwords to filter out common words.\n",
    "    \n",
    "    \"\"\"\n",
    "    \n",
    "    # NLTK stopwords\n",
    "    nltk_stopwords = set(stopwords.words('english'))\n",
    "    \n",
    "    # Custom stopwords\n",
    "    custom_stopwords = set(['&amp;', '& amp ;', 'lmao', 'lol', 'haha', 'blah', 'blah blah', 'lmfao', 'tbh', 'tf',\n",
    "                            'fr', 'nah', 'bruh', 'huh', 'hm', 'hmm', 'aw', 'aww', 'yeah', 'bruv', 'duh', \n",
    "                            'ya', 'yk', 'lmaooo', 'irl', 'shid', 'ikr', 'purr', 'asl', 'wtf', 'wth', 'omg'\n",
    "                            'dawg', 'iykyk', 'aint', 'ain\\'t', 'idk', 'idgaf', 'bff', 'bf', 'bsf', 'um'\n",
    "                            'oh', 'oo', 'url', 'yea', 'stfu', 'y\\'all', 'yall', 'u', 'lao', 'lmbo', 'womp'])\n",
    "    \n",
    "    # Combine NLTK and custom stopwords\n",
    "    all_stopwords = nltk_stopwords.union(custom_stopwords)\n",
    "    \n",
    "    # Tokenize the text\n",
    "    tokens = word_tokenize(text)\n",
    "    \n",
    "    # Remove stopwords\n",
    "    tokens = [word for word in tokens if word.lower() not in all_stopwords]\n",
    "    \n",
    "    # Join the tokens back into a string\n",
    "#     filtered_text = ' '.join(tokens)\n",
    "    \n",
    "    return tokens"
   ]
  },
  {
   "cell_type": "code",
   "execution_count": 57,
   "id": "39ca5b32",
   "metadata": {},
   "outputs": [],
   "source": [
    "def handle_letter_variations(text):\n",
    "    \"\"\"\n",
    "    Handle letter variations in a given text by replacing symbols with their potential letter equivalents.\n",
    "\n",
    "    Parameters:\n",
    "    - text (str): The input text containing symbols with potential letter variations.\n",
    "\n",
    "    Returns:\n",
    "    - str: The text after replacing symbols with their corresponding letters based on the mapping.\n",
    "\n",
    "    Note:\n",
    "    The function uses a predefined mapping of symbols to potential letter variations.\n",
    "    The substitutions are case-insensitive to enhance flexibility.\n",
    "    \n",
    "    \"\"\"\n",
    "    # Define a mapping of symbols to potential letter variations\n",
    "    symbol_letter_mapping = {'@': 'a', '4': 'a', '^': 'a', '8': 'b', '6': 'b', '(': 'c', '©': 'c', \n",
    "                             '3': 'e', '€': 'e', '∑': 'e', '9': 'g',  '|': 'i', '!': 'i', '1': 'i', \n",
    "                             '|': 'l', '0': 'o', 'Φ': 'o', '$': 's', '5': 's', '§': 's', '+': 't', \n",
    "                             '†': 't','7': 't', '2': 'z', '≥': 'z'}\n",
    "\n",
    "    # Iterate through the mapping and perform substitutions\n",
    "    for symbol, letter in symbol_letter_mapping.items():\n",
    "        # Use case-insensitive matching for flexibility\n",
    "        pattern = re.compile(re.escape(symbol), re.IGNORECASE)\n",
    "        text = pattern.sub(letter, text)\n",
    "\n",
    "    return text"
   ]
  },
  {
   "cell_type": "code",
   "execution_count": 58,
   "id": "44032a97",
   "metadata": {},
   "outputs": [],
   "source": [
    "def correct_spelling(text):\n",
    "    \"\"\"\n",
    "    Corrects spelling errors in a given text, excluding words from a hate speech lexicon.\n",
    "\n",
    "    Parameters:\n",
    "    - text (str): Input text with potential spelling errors.\n",
    "\n",
    "    Returns:\n",
    "    str: Text with corrected spelling, excluding words from the hate speech lexicon.\n",
    "    \n",
    "    \"\"\"\n",
    "    \n",
    "    # Create a SpellChecker object\n",
    "    spell = SpellChecker()\n",
    "\n",
    "    # Split the input text into words\n",
    "    words = re.findall(r'\\b\\w+\\b', text)\n",
    "\n",
    "    # Find and correct misspelled words that are not in the hate speech lexicon\n",
    "    corrected_words = []\n",
    "\n",
    "    for word in words:\n",
    "        if word.lower() in [hate_word.lower() for hate_word in hate_speech_lexicon]:\n",
    "            corrected_words.append(word)\n",
    "        else:\n",
    "            corrected_word = spell.correction(word)\n",
    "            corrected_words.append(corrected_word) if corrected_word is not None else corrected_words.append(word)\n",
    "\n",
    "    # Join the corrected words back into a sentence\n",
    "    corrected_text = ' '.join(corrected_words)\n",
    "\n",
    "    return corrected_text"
   ]
  },
  {
   "cell_type": "code",
   "execution_count": 13,
   "id": "92dcca86",
   "metadata": {},
   "outputs": [],
   "source": [
    "def preprocess_mislabeled_tokens(tokens):\n",
    "    \"\"\"\n",
    "    Preprocess a list of tokens to check for the presence of hateful words.\n",
    "\n",
    "    Parameters:\n",
    "    - tokens (list): A list of tokens representing a text.\n",
    "\n",
    "    Returns:\n",
    "    - tuple: A tuple containing the processed tokens and a boolean indicating\n",
    "             whether a hateful word is found in the tokens.\n",
    "\n",
    "    This function checks each token against a predefined hate speech lexicon\n",
    "    to identify the presence of any hateful words. It returns the original tokens\n",
    "    and a boolean flag indicating whether any hateful word is found.\n",
    "\n",
    "    \"\"\"\n",
    "\n",
    "    # Initialize a variable to check if a hateful word is found\n",
    "    hateful_word_found = False\n",
    "\n",
    "    # Loop through the hate speech lexicon\n",
    "    for word in hate_speech_lexicon:\n",
    "        # Create a regular expression pattern to match the word\n",
    "        pattern = re.compile(r'\\b{}\\b'.format(re.escape(word)), re.IGNORECASE)\n",
    "\n",
    "        # Check if any token matches the hateful word\n",
    "        if any(re.search(pattern, token) for token in tokens):\n",
    "            hateful_word_found = True\n",
    "            break  # Exit the loop if a hateful word is found\n",
    "\n",
    "    return tokens, hateful_word_found"
   ]
  },
  {
   "cell_type": "code",
   "execution_count": 59,
   "id": "1bd0efb2",
   "metadata": {},
   "outputs": [],
   "source": [
    "def preprocess_text_hateful(text):\n",
    "    \"\"\"\n",
    "    Preprocesses a given text to prepare it for analysis, particularly for texts labeled as hateful.\n",
    "\n",
    "    Args:\n",
    "    - text (str): The input text to be processed.\n",
    "\n",
    "    Returns:\n",
    "    - str: The processed text after applying various preprocessing steps, including:\n",
    "        1. Lowercasing the text.\n",
    "        2. Removing HTML tags and URLs using a simple regex.\n",
    "        3. Handling emoticons and emojis using a specialized function (remove_emoticons_and_emojis).\n",
    "        4. Handling numerical values by removing standalone numerics.\n",
    "        5. Removing punctuation marks.\n",
    "        6. Removing usernames and hashtags.\n",
    "        7. Handling symbol variations.\n",
    "        8. Spell checking to correct misspelled words, especially misspelled stop words.\n",
    "        9. Removing stopwords.\n",
    "        10. Lemmatization of words.\n",
    "        11. Handling contractions using a predefined list.\n",
    "\n",
    "    \"\"\"\n",
    "    \n",
    "    # Lowercasing\n",
    "    text = text.lower()\n",
    "\n",
    "    # Removing HTML tags and URLs (using a simple regex)\n",
    "    text = re.sub(r'<[^>]*>', '', text)\n",
    "    text = re.sub(r'http\\S+', '', text)\n",
    "\n",
    "    # Handling emoticons and emoji\n",
    "    text = remove_emoticons_and_emojis(text)\n",
    "    \n",
    "    # Handling numerical values\n",
    "    text = remove_standalone_numerics(text)\n",
    "\n",
    "    # Removing punctuation\n",
    "    text = remove_punctuation(text)\n",
    "    \n",
    "    # removing username\n",
    "    text = remove_usernames_and_hashtags(text)\n",
    "    \n",
    "     # Handling symbol variations\n",
    "    text =  handle_letter_variations(text)\n",
    "    \n",
    "    # Spell checking to correct misspelled words especially misspelled stop words\n",
    "    text = correct_spelling(text)\n",
    "    \n",
    "    # removing stopwords\n",
    "    tokens = remove_stopwords(text)\n",
    "\n",
    "    # Lemmatization\n",
    "    lemmatizer = WordNetLemmatizer()\n",
    "    tokens = [lemmatizer.lemmatize(word) for word in tokens]\n",
    "\n",
    "    # Handling contractions (you may need a more extensive list)\n",
    "    contractions = {\"n't\": 'not', \"'s\": 'is', \"'m\": 'am', \"'ll\": 'will', \"'re\": 'are', \"'ve\": 'have'}\n",
    "    tokens = [contractions.get(word, word) for word in tokens]\n",
    "\n",
    "    # Joining the tokens back into a string\n",
    "    processed_text = ' '.join(tokens)\n",
    "\n",
    "    return processed_text"
   ]
  },
  {
   "cell_type": "code",
   "execution_count": 60,
   "id": "67f333b6",
   "metadata": {},
   "outputs": [],
   "source": [
    "def preprocess_text_nonhateful(text):\n",
    "    # Lowercasing\n",
    "    text = text.lower()\n",
    "\n",
    "    # Removing HTML tags and URLs (using a simple regex)\n",
    "    text = re.sub(r'<[^>]*>', '', text)\n",
    "    text = re.sub(r'http\\S+', '', text)\n",
    "\n",
    "    # Handling emoticons and emoji\n",
    "    text = remove_emoticons_and_emojis(text)\n",
    "    \n",
    "    # Handling numerical values\n",
    "    text = remove_standalone_numerics(text)\n",
    "\n",
    "    # Removing punctuation\n",
    "    text = remove_punctuation(text)\n",
    "    \n",
    "    # removing username\n",
    "    text = remove_usernames_and_hashtags(text)\n",
    "    \n",
    "     # Handling symbol variations\n",
    "    text =  handle_letter_variations(text)\n",
    "    \n",
    "    # Spell checking to correct misspelled words especially misspelled stop words\n",
    "    text = correct_spelling(text)\n",
    "    \n",
    "    # removing stopwords\n",
    "    tokens = remove_stopwords(text)\n",
    "\n",
    "    # Lemmatization\n",
    "    lemmatizer = WordNetLemmatizer()\n",
    "    tokens = [lemmatizer.lemmatize(word) for word in tokens]\n",
    "\n",
    "    # Handling contractions (you may need a more extensive list)\n",
    "    contractions = {\"n't\": 'not', \"'s\": 'is', \"'m\": 'am', \"'ll\": 'will', \"'re\": 'are', \"'ve\": 'have'}\n",
    "    tokens = [contractions.get(word, word) for word in tokens]\n",
    "\n",
    "    # Hate speech lexicon checking\n",
    "    processed_tokens, hateful_word_found = preprocess_mislabeled_tokens(tokens)\n",
    "\n",
    "    # Joining the tokens back into a string\n",
    "    processed_text = ' '.join(processed_tokens)\n",
    "\n",
    "    return processed_text, hateful_word_found"
   ]
  },
  {
   "cell_type": "markdown",
   "id": "3b5b28a2",
   "metadata": {},
   "source": [
    "#### 2.2.3&nbsp;Creating dataset"
   ]
  },
  {
   "cell_type": "code",
   "execution_count": 46,
   "id": "7f6a3039",
   "metadata": {},
   "outputs": [],
   "source": [
    "# Initialize a new dataframe\n",
    "df_new = pd.DataFrame(columns=['text', 'hateful'])"
   ]
  },
  {
   "cell_type": "code",
   "execution_count": 48,
   "id": "522510ba",
   "metadata": {},
   "outputs": [],
   "source": [
    "# Preprocessing df2, df3 and df4 for non-hateful instances\n",
    "df_list = [df, df2, df3]\n",
    "\n",
    "# Set a limit for the number of rows\n",
    "row_limit = 5000\n",
    "\n",
    "# Initialize a counter for the number of rows added\n",
    "rows_added = 0\n",
    "\n",
    "mislabelled_count = 0\n",
    "\n",
    "# Iterate through the dataframes\n",
    "for df in df_list:\n",
    "    # Iterate through the rows in the current dataframe where 'hateful' column equals 0\n",
    "    for index, row in df[df['hateful'] == 0][:1700].iterrows():\n",
    "        # Check if the limit has been reached\n",
    "        if rows_added >= row_limit:\n",
    "            break\n",
    "        \n",
    "        # Get the text from the current row\n",
    "        text = row['text']\n",
    "        \n",
    "        if text is '' or text is ' ':\n",
    "            continue\n",
    "        \n",
    "        # Apply the preprocess_text_with_mislabeled_count function\n",
    "        text, hateful_word_found = preprocess_text_nonhateful(text)\n",
    "        \n",
    "        # If hateful_word_found is True, increment the count variable\n",
    "        if hateful_word_found:\n",
    "            mislabelled_count += 1\n",
    "        \n",
    "        # If hateful_word_found is False, add the row to df_new with hateful=0\n",
    "        if not hateful_word_found:\n",
    "            df_new = pd.concat([df_new, pd.DataFrame([[text, 0]],\n",
    "                                                      columns=['text', 'hateful'])], ignore_index=True)\n",
    "            rows_added += 1\n",
    "\n",
    "        # Check if the limit has been reached again after adding a row\n",
    "        if rows_added >= row_limit:\n",
    "            break"
   ]
  },
  {
   "cell_type": "code",
   "execution_count": 49,
   "id": "ae6b627b",
   "metadata": {},
   "outputs": [],
   "source": [
    "# preprocessing for hateful instances\n",
    "# Initialize a counter for the number of rows added\n",
    "rows_added = 0\n",
    "\n",
    "# Iterate through the dataframes\n",
    "for df in df_list:\n",
    "    # Iterate through the rows in the current dataframe where 'hateful' column equals 0\n",
    "    for index, row in df[df['hateful'] == 1].iterrows():\n",
    "        # Check if the limit has been reached\n",
    "        if rows_added >= row_limit:\n",
    "            break\n",
    "            \n",
    "        # Get the text from the current row\n",
    "        text = row['text']\n",
    "        \n",
    "        if text is '' or text is ' ':\n",
    "            continue\n",
    "            \n",
    "        # Apply the preprocess_text_with_mislabeled_count function\n",
    "        text = preprocess_text_hateful(text)\n",
    "        \n",
    "        df_new = pd.concat([df_new, pd.DataFrame([[text, 1]],\n",
    "                                                  columns=['text', 'hateful'])], ignore_index=True)\n",
    "        rows_added += 1\n",
    "\n",
    "        # Check if the limit has been reached again after adding a row\n",
    "        if rows_added >= row_limit:\n",
    "            break"
   ]
  },
  {
   "cell_type": "code",
   "execution_count": 50,
   "id": "f691be51",
   "metadata": {},
   "outputs": [
    {
     "name": "stdout",
     "output_type": "stream",
     "text": [
      "Mislabelled hateful instances 154\n"
     ]
    }
   ],
   "source": [
    "# Checking the count of hateful instances according to the hatespeech lexicon that are mislabelled as non hateful\n",
    "print('Mislabelled hateful instances', mislabelled_count)"
   ]
  },
  {
   "cell_type": "code",
   "execution_count": 28,
   "id": "4ade2c71",
   "metadata": {},
   "outputs": [],
   "source": [
    "# Save as a csv file\n",
    "df_new.to_csv('df_new.csv')"
   ]
  },
  {
   "cell_type": "code",
   "execution_count": 69,
   "id": "34e25c7c",
   "metadata": {},
   "outputs": [
    {
     "name": "stdout",
     "output_type": "stream",
     "text": [
      "text       0\n",
      "hateful    0\n",
      "dtype: int64\n",
      "0\n"
     ]
    }
   ],
   "source": [
    "# Check for null values and duplicates\n",
    "print(df_new.isnull().sum())\n",
    "print(df_new.duplicated().sum())"
   ]
  },
  {
   "cell_type": "markdown",
   "id": "ff4528ed",
   "metadata": {},
   "source": [
    "### 2.2.&nbsp;Baseline performance"
   ]
  },
  {
   "cell_type": "markdown",
   "id": "bad80256",
   "metadata": {},
   "source": [
    "To get a baseline perfomance, a simple Naive Bayes algorithm was implemented. Naive Bayes is a good baseline algorithm due to its simplicity, computational efficiency, and effectiveness with high-dimensional, sparse text data. This makes it a good starting point for this classifier.\n",
    "The recall of the algorithm is 86% which indicates that the model correctly identifies 86% of all instances of hateful text in the dataset. This metric is since it is important to capture as many instances of hateful text as possible, minimizing false negatives. The accuracy of approximately 82% indicates that the model is making correct predictions for a significant majority of the cases. The precision of 79% for hateful instances (hateful - 1) indicate that the model is correct about 79% of the time in predicting hateful text."
   ]
  },
  {
   "cell_type": "code",
   "execution_count": 5,
   "id": "b08f52e4",
   "metadata": {},
   "outputs": [],
   "source": [
    "df_new.drop('Unnamed: 0', axis=1, inplace=True)"
   ]
  },
  {
   "cell_type": "code",
   "execution_count": 43,
   "id": "85fd16c8",
   "metadata": {},
   "outputs": [],
   "source": [
    "df_new = df_new.dropna()"
   ]
  },
  {
   "cell_type": "code",
   "execution_count": 55,
   "id": "74240c7f",
   "metadata": {},
   "outputs": [
    {
     "name": "stdout",
     "output_type": "stream",
     "text": [
      "Recall: 0.86\n",
      "Classification Report:\n",
      "               precision    recall  f1-score   support\n",
      "\n",
      "           0       0.85      0.78      0.82       992\n",
      "           1       0.79      0.86      0.83       960\n",
      "\n",
      "    accuracy                           0.82      1952\n",
      "   macro avg       0.82      0.82      0.82      1952\n",
      "weighted avg       0.82      0.82      0.82      1952\n",
      "\n"
     ]
    }
   ],
   "source": [
    "def naive_bayes(df):\n",
    "    # Split the dataset into training and testing sets\n",
    "    train_df, test_df = train_test_split(df, test_size=0.2, random_state=42)\n",
    "\n",
    "    # Define labels\n",
    "    train_labels = train_df['hateful'].astype(int)\n",
    "    test_labels = test_df['hateful'].astype(int)\n",
    "    \n",
    "    # Extract features using CountVectorizer\n",
    "    vectorizer = CountVectorizer()\n",
    "    X_train = vectorizer.fit_transform(train_df['text'])\n",
    "    X_test = vectorizer.transform(test_df['text'])\n",
    "\n",
    "    # Create a Naive Bayes model\n",
    "    naive_bayes_model = MultinomialNB()\n",
    "\n",
    "    # Train the model\n",
    "    naive_bayes_model.fit(X_train, train_labels)\n",
    "\n",
    "    # Make predictions on the test set\n",
    "    predictions = naive_bayes_model.predict(X_test)\n",
    "\n",
    "    # Evaluate the model\n",
    "#     accuracy = accuracy_score(test_labels, predictions)\n",
    "    recall = recall_score(test_labels, predictions)\n",
    "    conf_matrix = confusion_matrix(test_labels, predictions)\n",
    "    class_report = classification_report(test_labels, predictions)\n",
    "\n",
    "    # Return the evaluation metrics\n",
    "    return recall, class_report, conf_matrix\n",
    "\n",
    "# Example usage:\n",
    "# Replace train_df, test_df, train_labels, test_labels with your actual data\n",
    "recall_nb, class_report_nb, conf_matrix_nb = naive_bayes(df_new)\n",
    "\n",
    "# Print or use the evaluation metrics as needed\n",
    "print(\"Recall:\", round(recall_nb, 2))\n",
    "print(\"Classification Report:\\n\", class_report_nb)"
   ]
  },
  {
   "cell_type": "code",
   "execution_count": 56,
   "id": "ca671592",
   "metadata": {},
   "outputs": [],
   "source": [
    "def plot_confusion_matrix(conf_matrix, colour):\n",
    "    \"\"\"\n",
    "    Plot the confusion matrix\n",
    "\n",
    "    Parameters:\n",
    "    - conf_matrix (numpy array): The confusion matrix.\n",
    "    - class_names (list): List of class names.\n",
    "\n",
    "    Returns:\n",
    "    - None (displays the plot).\n",
    "    \"\"\"\n",
    "    class_names = ['Not Hateful', 'Hateful']\n",
    "    plt.figure(figsize=(8, 6))\n",
    "    plt.imshow(conf_matrix, interpolation='nearest', cmap=colour)\n",
    "    plt.title('Confusion Matrix')\n",
    "    plt.colorbar()\n",
    "\n",
    "    tick_marks = range(len(class_names))\n",
    "    plt.xticks(tick_marks, class_names, rotation=45)\n",
    "    plt.yticks(tick_marks, class_names)\n",
    "\n",
    "    plt.ylabel('True label')\n",
    "    plt.xlabel('Predicted label')\n",
    "\n",
    "    # Display the values in each cell\n",
    "    for i in range(len(class_names)):\n",
    "        for j in range(len(class_names)):\n",
    "            plt.text(j, i, str(conf_matrix[i, j]), ha='center', va='center', color='white' if conf_matrix[i, j] > conf_matrix.max() / 2 else 'black')\n",
    "\n",
    "    plt.show()"
   ]
  },
  {
   "cell_type": "code",
   "execution_count": 57,
   "id": "56778477",
   "metadata": {},
   "outputs": [
    {
     "data": {
      "image/png": "[encoded data removed]",
      "text/plain": [
       "<Figure size 576x432 with 2 Axes>"
      ]
     },
     "metadata": {
      "needs_background": "light"
     },
     "output_type": "display_data"
    }
   ],
   "source": [
    "# plotting the Näive Bayes confusion matrix\n",
    "plot_confusion_matrix(conf_matrix_nb, plt.cm.Blues)"
   ]
  },
  {
   "cell_type": "markdown",
   "id": "121b593e",
   "metadata": {},
   "source": [
    "### 2.3.&nbsp;Classification Approach"
   ]
  },
  {
   "cell_type": "markdown",
   "id": "54042240",
   "metadata": {},
   "source": [
    "For this project, a diverse set of four classifiers—logistic regression, SVM, random forest, and LSTM—was employed to identify hateful speech. The features of these models consist of vectorized text, utilizing either CountVectorizer, TF-IDF, or GloVe word embeddings where appropriate. The binary labels indicate whether the text is classified as hateful or not. The selection of these classifiers was motivated by the aim to leverage the diversity in their decision-making processes, allowing for a robust comparison of their performance to determine the most suitable algorithm for the classifier's future use.\n",
    "\n",
    "Each classifier was chosen based on its relevance to the classification task, taking into account factors such as interpretability, capacity to handle non-linearity, and ability to capture sequential dependencies in text data. Logistic regression was selected for its simplicity and interpretability, SVM for its effective performance on high-dimensional data, random forest for its adeptness in handling non-linear relationships and capturing complexity, and LSTM for its specialized design to work with sequential data and capture long-term dependencies. The features and labels were tailored to align with the unique characteristics of each classifier, and extensive experimentation was conducted to achieve optimal performance. Lastly, Grid Search optimization was applied to each classifier to enhance their evaluation metrics, including accuracy, recall, precision, and F1 score."
   ]
  },
  {
   "cell_type": "code",
   "execution_count": 62,
   "id": "81842f90",
   "metadata": {},
   "outputs": [
    {
     "name": "stderr",
     "output_type": "stream",
     "text": [
      "Vectorizing Text: 100%|████████████████████| 9759/9759 [00:28<00:00, 336.62it/s]\n"
     ]
    },
    {
     "data": {
      "text/html": [
       "<div>\n",
       "<style scoped>\n",
       "    .dataframe tbody tr th:only-of-type {\n",
       "        vertical-align: middle;\n",
       "    }\n",
       "\n",
       "    .dataframe tbody tr th {\n",
       "        vertical-align: top;\n",
       "    }\n",
       "\n",
       "    .dataframe thead th {\n",
       "        text-align: right;\n",
       "    }\n",
       "</style>\n",
       "<table border=\"1\" class=\"dataframe\">\n",
       "  <thead>\n",
       "    <tr style=\"text-align: right;\">\n",
       "      <th></th>\n",
       "      <th>vectorized_text</th>\n",
       "      <th>hateful</th>\n",
       "    </tr>\n",
       "  </thead>\n",
       "  <tbody>\n",
       "    <tr>\n",
       "      <th>0</th>\n",
       "      <td>[-0.046161108, -0.110156685, -2.7431166, -0.27...</td>\n",
       "      <td>0</td>\n",
       "    </tr>\n",
       "    <tr>\n",
       "      <th>1</th>\n",
       "      <td>[1.7070268, 1.2761451, -3.4483833, -2.0566216,...</td>\n",
       "      <td>0</td>\n",
       "    </tr>\n",
       "    <tr>\n",
       "      <th>2</th>\n",
       "      <td>[0.085925974, 0.2759654, -0.695412, 1.528, -1....</td>\n",
       "      <td>0</td>\n",
       "    </tr>\n",
       "    <tr>\n",
       "      <th>3</th>\n",
       "      <td>[1.217885, 1.0805168, -1.0210125, 1.2753749, -...</td>\n",
       "      <td>0</td>\n",
       "    </tr>\n",
       "    <tr>\n",
       "      <th>4</th>\n",
       "      <td>[-1.1912943, -1.4259173, -3.8120115, -1.454714...</td>\n",
       "      <td>0</td>\n",
       "    </tr>\n",
       "  </tbody>\n",
       "</table>\n",
       "</div>"
      ],
      "text/plain": [
       "                                     vectorized_text  hateful\n",
       "0  [-0.046161108, -0.110156685, -2.7431166, -0.27...        0\n",
       "1  [1.7070268, 1.2761451, -3.4483833, -2.0566216,...        0\n",
       "2  [0.085925974, 0.2759654, -0.695412, 1.528, -1....        0\n",
       "3  [1.217885, 1.0805168, -1.0210125, 1.2753749, -...        0\n",
       "4  [-1.1912943, -1.4259173, -3.8120115, -1.454714...        0"
      ]
     },
     "execution_count": 62,
     "metadata": {},
     "output_type": "execute_result"
    }
   ],
   "source": [
    "# Vectorise the text using word embeddings\n",
    "# Load pre-trained spaCy model with GloVe embeddings\n",
    "nlp = spacy.load(\"en_core_web_md\")\n",
    "\n",
    "# Vectorize each text using the average of word vectors\n",
    "def vectorize_text(text):\n",
    "    tokens = nlp(text)\n",
    "    # Use the average of word vectors as the document vector\n",
    "    vectors = [token.vector for token in tokens if token.has_vector]\n",
    "    if vectors:\n",
    "        return np.mean(vectors, axis=0)\n",
    "    else:\n",
    "        return np.zeros(nlp.vocab.vectors.shape[1])\n",
    "\n",
    "# Apply the vectorization function to each row in the DataFrame\n",
    "tqdm.pandas(desc=\"Vectorizing Text\")\n",
    "\n",
    "# Create new dataframe \n",
    "df_vec = pd.DataFrame()\n",
    "df_vec['vectorized_text'] = df_new['text'].progress_apply(vectorize_text)\n",
    "df_vec['hateful'] = df_new['hateful']\n",
    "\n",
    "# Display the DataFrame with vectorized text\n",
    "df_vec.head()"
   ]
  },
  {
   "cell_type": "code",
   "execution_count": 63,
   "id": "a371f069",
   "metadata": {},
   "outputs": [],
   "source": [
    "# Separate features (X) and labels (y)\n",
    "X = df_vec['vectorized_text']\n",
    "# X = np.array([np.array(x) for x in df_vec['vectorized_text']])\n",
    "y = df_vec['hateful'].astype(int)\n",
    "\n",
    "# Split the data into training and testing sets\n",
    "X_train, X_test, y_train, y_test = train_test_split(X, y, test_size=0.2, random_state=42)"
   ]
  },
  {
   "cell_type": "code",
   "execution_count": 11,
   "id": "08728030",
   "metadata": {},
   "outputs": [
    {
     "data": {
      "text/plain": [
       "vectorized_text    object\n",
       "hateful             int64\n",
       "dtype: object"
      ]
     },
     "execution_count": 11,
     "metadata": {},
     "output_type": "execute_result"
    }
   ],
   "source": [
    "df_vec.dtypes"
   ]
  },
  {
   "cell_type": "markdown",
   "id": "0fa909c8",
   "metadata": {},
   "source": [
    "#### 2.3.1&nbsp;Logistic Regression"
   ]
  },
  {
   "cell_type": "code",
   "execution_count": 147,
   "id": "d30a20a4",
   "metadata": {},
   "outputs": [
    {
     "name": "stdout",
     "output_type": "stream",
     "text": [
      "Logistic Regression Classifier Recall: 0.80\n",
      "\n",
      "Classification Report:\n",
      "               precision    recall  f1-score   support\n",
      "\n",
      "           0       0.81      0.84      0.82       992\n",
      "           1       0.83      0.80      0.81       960\n",
      "\n",
      "    accuracy                           0.82      1952\n",
      "   macro avg       0.82      0.82      0.82      1952\n",
      "weighted avg       0.82      0.82      0.82      1952\n",
      "\n"
     ]
    }
   ],
   "source": [
    "def lr_classifier(df):\n",
    "    \n",
    "    # Separate features (X) and labels (y)\n",
    "    X = df['text']\n",
    "    y = df['hateful']\n",
    "\n",
    "    # Split the data into training and testing sets\n",
    "    X_train, X_test, y_train, y_test = train_test_split(X, y, test_size=0.2, random_state=42)\n",
    "\n",
    "    # Vectorize the text data using CountVectorizer\n",
    "    vectorizer = CountVectorizer()\n",
    "    X_train_vectorized = vectorizer.fit_transform(X_train)\n",
    "    X_test_vectorized = vectorizer.transform(X_test)\n",
    "\n",
    "    # Train Logistic Regression model\n",
    "    model = LogisticRegression()\n",
    "    lr_model= model.fit(X_train_vectorized, y_train)\n",
    "\n",
    "    # Make predictions on the test set\n",
    "    y_pred = model.predict(X_test_vectorized)\n",
    "\n",
    "    # Evaluate the model\n",
    "    recall = recall_score(y_test, y_pred)\n",
    "    conf_matrix = confusion_matrix(y_test, y_pred)\n",
    "    class_report = classification_report(y_test, y_pred)\n",
    "\n",
    "    return lr_model, vectorizer, recall, class_report, conf_matrix\n",
    "\n",
    "lr_model, vectorizer, recall_lr, class_report_lr, conf_matrix_lr = lr_classifier(df_new)\n",
    "joblib.dump(lr_model, 'lr_model.pkl')\n",
    "joblib.dump(vectorizer, 'vectorizer.pkl')\n",
    "\n",
    "print(f'Logistic Regression Classifier Recall: {recall_lr:.2f}')\n",
    "print('\\nClassification Report:\\n', class_report_lr)"
   ]
  },
  {
   "cell_type": "code",
   "execution_count": 60,
   "id": "d27769fd",
   "metadata": {
    "scrolled": false
   },
   "outputs": [
    {
     "data": {
      "image/png": "[encoded data removed]",
      "text/plain": [
       "<Figure size 576x432 with 2 Axes>"
      ]
     },
     "metadata": {
      "needs_background": "light"
     },
     "output_type": "display_data"
    }
   ],
   "source": [
    "plot_confusion_matrix(conf_matrix_lr, plt.cm.Reds)"
   ]
  },
  {
   "cell_type": "markdown",
   "id": "1a9c04ce",
   "metadata": {},
   "source": [
    "#### 2.3.2&nbsp;Support Vector Machine"
   ]
  },
  {
   "cell_type": "code",
   "execution_count": 64,
   "id": "0361f6c4",
   "metadata": {},
   "outputs": [
    {
     "name": "stdout",
     "output_type": "stream",
     "text": [
      "Recall: 0.80\n",
      "\n",
      "\n",
      "Classification Report:\n",
      "               precision    recall  f1-score   support\n",
      "\n",
      "           0       0.81      0.80      0.81       992\n",
      "           1       0.80      0.80      0.80       960\n",
      "\n",
      "    accuracy                           0.80      1952\n",
      "   macro avg       0.80      0.80      0.80      1952\n",
      "weighted avg       0.80      0.80      0.80      1952\n",
      "\n"
     ]
    }
   ],
   "source": [
    "def svm_classifier(X_train, X_test, y_train, y_test):\n",
    "    \"\"\"\n",
    "    Train an SVM model and evaluate its performance.\n",
    "\n",
    "    Parameters:\n",
    "    - train_df (pd.DataFrame): Training data with a 'vectorized_text' column containing pre-trained word embeddings.\n",
    "    - test_df (pd.DataFrame): Testing data with a 'vectorized_text' column containing pre-trained word embeddings.\n",
    "    - train_labels (array-like): Labels for the training data.\n",
    "    - test_labels (array-like): Labels for the testing data.\n",
    "\n",
    "    Returns:\n",
    "    - dict: Dictionary containing accuracy, confusion matrix, and classification report.\n",
    "    \"\"\"\n",
    "    \n",
    "    X_train = pd.DataFrame(list(X_train))\n",
    "    X_test = pd.DataFrame(list(X_test))\n",
    "\n",
    "    # Create a Support Vector Machine model\n",
    "    svm_model = SVC(kernel='linear', C=1.0)\n",
    "\n",
    "    # Train the model\n",
    "    svm_model.fit(X_train, y_train)\n",
    "\n",
    "    # Make predictions on the test set\n",
    "    predictions = svm_model.predict(X_test)\n",
    "\n",
    "    # Evaluate the model\n",
    "    recall = recall_score(y_test, predictions)\n",
    "    conf_matrix = confusion_matrix(y_test, predictions)\n",
    "    class_report = classification_report(y_test, predictions)\n",
    "\n",
    "    return recall, conf_matrix, class_report\n",
    "\n",
    "recall_svm, conf_matrix_svm, class_report_svm = svm_classifier(X_train, X_test, y_train, y_test)\n",
    "\n",
    "# Display evaluation metrics\n",
    "print(f'Recall: {recall_svm:.2f}\\n')\n",
    "print('\\nClassification Report:\\n', class_report_svm)"
   ]
  },
  {
   "cell_type": "code",
   "execution_count": 47,
   "id": "46b2c0e9",
   "metadata": {
    "scrolled": false
   },
   "outputs": [
    {
     "data": {
      "image/png": "[encoded data removed]",
      "text/plain": [
       "<Figure size 576x432 with 2 Axes>"
      ]
     },
     "metadata": {
      "needs_background": "light"
     },
     "output_type": "display_data"
    }
   ],
   "source": [
    "plot_confusion_matrix(conf_matrix_svm, plt.cm.Greens)"
   ]
  },
  {
   "cell_type": "markdown",
   "id": "a5b736cc",
   "metadata": {},
   "source": [
    "#### 2.3.3&nbsp;Random Forest"
   ]
  },
  {
   "cell_type": "code",
   "execution_count": 68,
   "id": "93db44cb",
   "metadata": {},
   "outputs": [
    {
     "name": "stdout",
     "output_type": "stream",
     "text": [
      "Random Forest Classifier Recall: 0.74\n",
      "\n",
      "Classification Report:\n",
      "               precision    recall  f1-score   support\n",
      "\n",
      "           0       0.76      0.82      0.79       992\n",
      "           1       0.80      0.74      0.76       960\n",
      "\n",
      "    accuracy                           0.78      1952\n",
      "   macro avg       0.78      0.78      0.78      1952\n",
      "weighted avg       0.78      0.78      0.78      1952\n",
      "\n"
     ]
    }
   ],
   "source": [
    "def rf_classifier(X_train, X_test, y_train, y_test):\n",
    "    \"\"\"\n",
    "    Train a Random Forest classifier and evaluate its performance.\n",
    "\n",
    "    Parameters:\n",
    "    - df (pandas.DataFrame): DataFrame containing vectorized text data and labels.\n",
    "\n",
    "    Returns:\n",
    "    - float: Accuracy of the Random Forest classifier on the testing data.\n",
    "    \"\"\"\n",
    "    \n",
    "    # Create a Random Forest classifier\n",
    "    rf_model = RandomForestClassifier(n_estimators=200,random_state=42)\n",
    "\n",
    "    # Train the model\n",
    "    rf_model.fit(X_train.tolist(), y_train)\n",
    "\n",
    "    # Make predictions on the testing data\n",
    "    predictions = rf_model.predict(X_test.tolist())\n",
    "\n",
    "    # Evaluate the model\n",
    "    recall = recall_score(y_test, predictions)\n",
    "    conf_matrix = confusion_matrix(y_test, predictions)\n",
    "    class_report = classification_report(y_test, predictions)\n",
    "\n",
    "    return recall, class_report, conf_matrix\n",
    "\n",
    "recall_rf, class_report_rf, conf_matrix_rf = rf_classifier(X_train, X_test, y_train, y_test)\n",
    "print(f'Random Forest Classifier Recall: {recall_rf:.2f}')\n",
    "print('\\nClassification Report:\\n', class_report_rf)"
   ]
  },
  {
   "cell_type": "code",
   "execution_count": 67,
   "id": "944bf604",
   "metadata": {
    "scrolled": false
   },
   "outputs": [
    {
     "data": {
      "image/png": "[encoded data removed]",
      "text/plain": [
       "<Figure size 576x432 with 2 Axes>"
      ]
     },
     "metadata": {
      "needs_background": "light"
     },
     "output_type": "display_data"
    }
   ],
   "source": [
    "plot_confusion_matrix(conf_matrix_rf, plt.cm.Purples)"
   ]
  },
  {
   "cell_type": "markdown",
   "id": "224a4ae3",
   "metadata": {},
   "source": [
    "#### 2.3.4&nbsp;Long Short-Term Memory"
   ]
  },
  {
   "cell_type": "code",
   "execution_count": 86,
   "id": "2f4cd01f",
   "metadata": {
    "scrolled": true
   },
   "outputs": [
    {
     "name": "stdout",
     "output_type": "stream",
     "text": [
      "Train on 6245 samples, validate on 1562 samples\n",
      "Epoch 1/10\n"
     ]
    },
    {
     "name": "stderr",
     "output_type": "stream",
     "text": [
      "2024-01-11 23:55:55.989533: W tensorflow/core/grappler/optimizers/implementation_selector.cc:310] Skipping optimization due to error while loading function libraries: Invalid argument: Functions '__inference___backward_cudnn_lstm_with_fallback_2111613_2111795' and '__inference___backward_standard_lstm_2111945_2112430_specialized_for_StatefulPartitionedCall_at___inference_distributed_function_2112633' both implement 'lstm_61bf01be-7877-41df-a777-5aab139798f7' but their signatures do not match.\n"
     ]
    },
    {
     "name": "stdout",
     "output_type": "stream",
     "text": [
      "6240/6245 [============================>.] - ETA: 0s - loss: 0.5010 - recall_2: 0.5278"
     ]
    },
    {
     "name": "stderr",
     "output_type": "stream",
     "text": [
      "2024-01-11 23:56:24.044908: W tensorflow/core/grappler/optimizers/implementation_selector.cc:310] Skipping optimization due to error while loading function libraries: Invalid argument: Functions '__inference_standard_lstm_2114010' and '__inference_standard_lstm_2114010_specialized_for_sequential_2766_lstm_2766_StatefulPartitionedCall_at___inference_distributed_function_2114419' both implement 'lstm_2c214a69-e81e-41ac-9922-eb6485e8c84e' but their signatures do not match.\n"
     ]
    },
    {
     "name": "stdout",
     "output_type": "stream",
     "text": [
      "6245/6245 [==============================] - 45s 7ms/sample - loss: 0.5010 - recall_2: 0.5283 - val_loss: 0.3799 - val_recall_2: 0.7134\n",
      "Epoch 2/10\n",
      "6245/6245 [==============================] - 30s 5ms/sample - loss: 0.2669 - recall_2: 0.7725 - val_loss: 0.3871 - val_recall_2: 0.8037\n",
      "Epoch 3/10\n",
      "6245/6245 [==============================] - 32s 5ms/sample - loss: 0.1734 - recall_2: 0.8280 - val_loss: 0.4328 - val_recall_2: 0.8440\n",
      "Epoch 4/10\n",
      "6245/6245 [==============================] - 30s 5ms/sample - loss: 0.1191 - recall_2: 0.8573 - val_loss: 0.5258 - val_recall_2: 0.8674\n",
      "Epoch 5/10\n",
      "6245/6245 [==============================] - 38s 6ms/sample - loss: 0.0814 - recall_2: 0.8755 - val_loss: 0.6603 - val_recall_2: 0.8825\n",
      "Epoch 6/10\n",
      "6245/6245 [==============================] - 32s 5ms/sample - loss: 0.0625 - recall_2: 0.8888 - val_loss: 0.6828 - val_recall_2: 0.8943\n",
      "Epoch 7/10\n",
      "6245/6245 [==============================] - 31s 5ms/sample - loss: 0.0462 - recall_2: 0.8987 - val_loss: 0.7830 - val_recall_2: 0.9027\n",
      "Epoch 8/10\n",
      "6245/6245 [==============================] - 31s 5ms/sample - loss: 0.0373 - recall_2: 0.9058 - val_loss: 0.9356 - val_recall_2: 0.9090\n",
      "Epoch 9/10\n",
      "6245/6245 [==============================] - 31s 5ms/sample - loss: 0.0289 - recall_2: 0.9119 - val_loss: 0.9866 - val_recall_2: 0.9142\n",
      "Epoch 10/10\n",
      "6245/6245 [==============================] - 31s 5ms/sample - loss: 0.0293 - recall_2: 0.9160 - val_loss: 1.0331 - val_recall_2: 0.9180\n"
     ]
    },
    {
     "name": "stderr",
     "output_type": "stream",
     "text": [
      "2024-01-12 00:01:13.895505: W tensorflow/core/grappler/optimizers/implementation_selector.cc:310] Skipping optimization due to error while loading function libraries: Invalid argument: Functions '__inference_standard_lstm_2128220_specialized_for_sequential_2766_lstm_2766_StatefulPartitionedCall_at___inference_distributed_function_2128521' and '__inference_cudnn_lstm_with_fallback_2128331' both implement 'lstm_7367c5d5-cc10-40c7-a1ec-476e18ead841' but their signatures do not match.\n"
     ]
    },
    {
     "name": "stdout",
     "output_type": "stream",
     "text": [
      "Recall: 0.78\n",
      "\n",
      "\n",
      "Classification Report:\n",
      "               precision    recall  f1-score   support\n",
      "\n",
      "         0.0       0.78      0.76      0.77       992\n",
      "         1.0       0.76      0.78      0.77       960\n",
      "\n",
      "    accuracy                           0.77      1952\n",
      "   macro avg       0.77      0.77      0.77      1952\n",
      "weighted avg       0.77      0.77      0.77      1952\n",
      "\n"
     ]
    }
   ],
   "source": [
    "def lstm_classifier(df):\n",
    "    \"\"\"\n",
    "    Train an LSTM model and evaluate its performance.\n",
    "\n",
    "    Parameters:\n",
    "    - df: dataframe with text data and labels\n",
    "    \n",
    "    Returns:\n",
    "    - dict: Dictionary containing accuracy, confusion matrix, and classification report.\n",
    "    \"\"\"\n",
    "    # Split the dataset into training and testing sets for non-vectorised data\n",
    "    X_train, X_test = train_test_split(df, test_size=0.2, random_state=42)\n",
    "    \n",
    "    # Convert y_train and y_test to NumPy arrays with float32 data type\n",
    "    y_train = np.array(X_train['hateful'], dtype=np.float32)\n",
    "    y_test = np.array(X_test['hateful'], dtype=np.float32)\n",
    "\n",
    "    # Tokenize and pad sequences\n",
    "    max_words = 10000  # Maximum number of words in the vocabulary\n",
    "    max_len = 50  # Maximum length of a sequence\n",
    "\n",
    "    tokenizer = Tokenizer(num_words=max_words, oov_token='<OOV>')\n",
    "    tokenizer.fit_on_texts(X_train['text'])\n",
    "\n",
    "    X_train_seq = pad_sequences(tokenizer.texts_to_sequences(X_train['text']), maxlen=max_len)\n",
    "    X_test_seq = pad_sequences(tokenizer.texts_to_sequences(X_test['text']), maxlen=max_len)\n",
    "\n",
    "    # Build LSTM model with dropout\n",
    "    model = Sequential()\n",
    "    model.add(Embedding(input_dim=max_words, output_dim=32, input_length=max_len))\n",
    "    model.add(LSTM(50, dropout=0.2))\n",
    "    model.add(Dense(1, activation='sigmoid'))\n",
    "\n",
    "    # Compile the model\n",
    "    model.compile(optimizer='adam', loss='binary_crossentropy', metrics=[Recall()])\n",
    "\n",
    "    # Train the model\n",
    "    model.fit(X_train_seq, y_train, epochs=10, batch_size=16, validation_split=0.2)\n",
    "\n",
    "    # Evaluate the model\n",
    "    predictions = (model.predict(X_test_seq) > 0.5).astype(int)\n",
    "    recall = recall_score(y_test, predictions)\n",
    "    conf_matrix = confusion_matrix(y_test, predictions)\n",
    "    class_report = classification_report(y_test, predictions)\n",
    "\n",
    "    return recall, conf_matrix, class_report\n",
    "\n",
    "\n",
    "recall_lstm, conf_matrix_lstm, class_report_lstm = lstm_classifier(df_new)\n",
    "\n",
    "# Display evaluation metrics\n",
    "print(f'Recall: {recall_lstm:.2f}\\n')\n",
    "print('\\nClassification Report:\\n', class_report_lstm)"
   ]
  },
  {
   "cell_type": "code",
   "execution_count": 83,
   "id": "1d2fc0d7",
   "metadata": {
    "scrolled": false
   },
   "outputs": [
    {
     "data": {
      "image/png": "[encoded data removed]",
      "text/plain": [
       "<Figure size 576x432 with 2 Axes>"
      ]
     },
     "metadata": {
      "needs_background": "light"
     },
     "output_type": "display_data"
    }
   ],
   "source": [
    "plot_confusion_matrix(conf_matrix_lstm, plt.cm.Oranges)"
   ]
  },
  {
   "cell_type": "markdown",
   "id": "265b6bc9",
   "metadata": {},
   "source": [
    "### 2.4&nbsp;Optimisation"
   ]
  },
  {
   "cell_type": "markdown",
   "id": "f8916d40",
   "metadata": {},
   "source": [
    "In the pursuit of optimizing model performance, an exhaustive hyperparameter tuning process was executed through grid search. Despite these efforts, the optimization of classifiers did not produce the anticipated results. For instance, in the case of logistic regression, the recall scores experienced a reduction, while for the support vector machine, they remained unchanged. Although there was a marginal increase in recall with the random forest model, the results obtained from the long short-term memory (LSTM) network were not interpretable. Given the limited success of grid search optimization, alternative strategies for enhancing recall are being explored. These include experimenting with different feature engineering techniques, exploring more sophisticated model architectures, and potentially incorporating ensemble methods to harness the strengths of multiple models. By diversifying the approach beyond hyperparameter tuning, we aim to uncover avenues that will lead to substantial improvements in the models' ability to identify relevant patterns and enhance recall performance."
   ]
  },
  {
   "cell_type": "markdown",
   "id": "9cd9cc50",
   "metadata": {},
   "source": [
    "#### 2.4.1&nbsp;Logistic Regression Optimisation"
   ]
  },
  {
   "cell_type": "code",
   "execution_count": 85,
   "id": "2bade06c",
   "metadata": {},
   "outputs": [
    {
     "name": "stdout",
     "output_type": "stream",
     "text": [
      "Fitting 5 folds for each of 6 candidates, totalling 30 fits\n"
     ]
    },
    {
     "name": "stderr",
     "output_type": "stream",
     "text": [
      "[Parallel(n_jobs=-1)]: Using backend LokyBackend with 8 concurrent workers.\n"
     ]
    },
    {
     "name": "stdout",
     "output_type": "stream",
     "text": [
      "Recall: 0.7875\n",
      "Classification Report on Test Set:\n",
      "              precision    recall  f1-score   support\n",
      "\n",
      "           0       0.81      0.86      0.83       992\n",
      "           1       0.85      0.79      0.82       960\n",
      "\n",
      "    accuracy                           0.83      1952\n",
      "   macro avg       0.83      0.83      0.83      1952\n",
      "weighted avg       0.83      0.83      0.83      1952\n",
      "\n",
      "Best Parameters: {'C': 1, 'penalty': 'l2'}\n"
     ]
    },
    {
     "name": "stderr",
     "output_type": "stream",
     "text": [
      "[Parallel(n_jobs=-1)]: Done  30 out of  30 | elapsed:    4.0s finished\n"
     ]
    }
   ],
   "source": [
    "def lr_grid_search(df):\n",
    "    \"\"\"\n",
    "    Perform grid search for logistic regression.\n",
    "\n",
    "    Parameters:\n",
    "    - df (pandas.DataFrame): DataFrame containing 'text' and 'hateful' columns.\n",
    "\n",
    "    Returns:\n",
    "    - dict: Best parameters from the grid search.\n",
    "    \"\"\"\n",
    "    \n",
    "    # Separate features (X) and labels (y)\n",
    "    X = df['text']\n",
    "    y = df['hateful']\n",
    "    \n",
    "    # TF-IDF vectorization\n",
    "    vectorizer = TfidfVectorizer()\n",
    "    X_tfidf = vectorizer.fit_transform(X)\n",
    "    \n",
    "    param_grid = {'C': [0.001, 0.01, 0.1, 1, 10, 100], 'penalty': ['l2']}\n",
    "    \n",
    "    # Split the data into training and testing sets\n",
    "    X_train, X_test, y_train, y_test = train_test_split(X_tfidf, y, test_size=0.2, random_state=42)\n",
    "    \n",
    "    # Create a logistic regression model\n",
    "    logreg_model = LogisticRegression(solver='liblinear', max_iter=1000)\n",
    "    \n",
    "    # Perform grid search\n",
    "    grid_search = GridSearchCV(logreg_model, param_grid, cv=5, scoring='recall', verbose=1, n_jobs=-1)\n",
    "    grid_search.fit(X_train, y_train)\n",
    "    \n",
    "    # Get the best parameters\n",
    "    best_params = grid_search.best_params_\n",
    "    \n",
    "    # Evaluate the model on the test set with the best parameters\n",
    "    y_pred = grid_search.predict(X_test)\n",
    "    \n",
    "    # Print classification report on the test set\n",
    "    print(\"Recall:\", recall_score(y_test, y_pred))\n",
    "    print(\"Classification Report on Test Set:\")\n",
    "    print(classification_report(y_test, y_pred))\n",
    "    \n",
    "    return best_params\n",
    "\n",
    "# Assuming df_new is your DataFrame\n",
    "best_parameters = lr_grid_search(df_new)\n",
    "print(\"Best Parameters:\", best_parameters)"
   ]
  },
  {
   "cell_type": "markdown",
   "id": "2932ea39",
   "metadata": {},
   "source": [
    "#### 2.4.2&nbsp;Support Vector Machine Optimisation"
   ]
  },
  {
   "cell_type": "code",
   "execution_count": null,
   "id": "282abd8e",
   "metadata": {},
   "outputs": [],
   "source": [
    "def svm_grid_search(X_train, y_train):\n",
    "    # Convert elements in X_train to strings\n",
    "#     X_train_str = X_train.astype(str)\n",
    "\n",
    "    # Feature scaling\n",
    "    scaler = StandardScaler()\n",
    "    X_scaled = scaler.fit_transform(X_train)\n",
    "\n",
    "    # SVM\n",
    "    svm_model = SVC()\n",
    "    svm_params = {'C': [1, 10], 'gamma': [0.1, 0.01], 'kernel': ['linear', 'rbf']}\n",
    "    svm_grid = RandomizedSearchCV(svm_model, svm_params, n_iter=5, cv=5, scoring='accuracy', n_jobs=-1)\n",
    "    svm_grid.fit(X_scaled, y_train)\n",
    "    best_svm_params = svm_grid.best_params_\n",
    "\n",
    "    return best_svm_params\n",
    "\n",
    "svm_best_params = svm_grid_search(X_train, y_train)\n",
    "print('Best SVM Parameters', svm_best_params)"
   ]
  },
  {
   "cell_type": "markdown",
   "id": "3a33b220",
   "metadata": {},
   "source": [
    "#### 2.4.3&nbsp;Random Forest Optimisation"
   ]
  },
  {
   "cell_type": "code",
   "execution_count": 16,
   "id": "1d433197",
   "metadata": {},
   "outputs": [
    {
     "name": "stdout",
     "output_type": "stream",
     "text": [
      "Best Hyperparameters: {'criterion': 'entropy', 'max_depth': 30, 'min_samples_leaf': 1, 'min_samples_split': 10, 'n_estimators': 200}\n",
      "Best Random Forest Parameters 0.7802254098360656\n"
     ]
    }
   ],
   "source": [
    "def rf_grid_search(X_train, X_test, y_train, y_test):\n",
    "    \n",
    "    # Define the model and parameter grid\n",
    "    param_grid = {\n",
    "        'criterion': ['gini', 'entropy'],\n",
    "        'n_estimators': [50, 100, 200],\n",
    "        'max_depth': [None, 10, 20, 30],\n",
    "        'min_samples_split': [2, 5, 10],\n",
    "        'min_samples_leaf': [1, 2, 4]\n",
    "    }\n",
    "\n",
    "    # Create the model\n",
    "    rf_classifier = RandomForestClassifier()\n",
    "\n",
    "    # Use GridSearchCV to find the best hyperparameters\n",
    "    grid_search = GridSearchCV(estimator=rf_classifier, param_grid=param_grid, cv=3, scoring='recall')\n",
    "    grid_search.fit(X_train.tolist(), y_train)\n",
    "\n",
    "    # Print the best hyperparameters\n",
    "    best_params = grid_search.best_params_\n",
    "    print(\"Best Hyperparameters:\", best_params)\n",
    "\n",
    "    # Get the best model\n",
    "    best_model = grid_search.best_estimator_\n",
    "\n",
    "    # Evaluate the best model on the test set\n",
    "    test_accuracy = best_model.score(X_test.tolist(), y_test)\n",
    "    \n",
    "    return test_accuracy\n",
    "    \n",
    "rf_best_params = rf_grid_search(X_train, X_test, y_train, y_test)\n",
    "print('Best Random Forest Parameters', rf_best_params)"
   ]
  },
  {
   "cell_type": "markdown",
   "id": "13ec8a40",
   "metadata": {},
   "source": [
    "#### 2.4.4&nbsp;Long Short-Term Memory Optimisation"
   ]
  },
  {
   "cell_type": "code",
   "execution_count": 82,
   "id": "efab050c",
   "metadata": {},
   "outputs": [
    {
     "name": "stdout",
     "output_type": "stream",
     "text": [
      "Best parameters:  {'activation': 'sigmoid', 'batch_size': 16, 'epochs': 10, 'optimizer': 'adam', 'units': 50}\n",
      "Best score:  -0.34414006620683746\n"
     ]
    }
   ],
   "source": [
    "# Function to create the LSTM model\n",
    "def create_lstm_model(units=50, input_shape=(None, 1), activation='sigmoid', optimizer='adam'):\n",
    "    model = Sequential()\n",
    "    model.add(LSTM(units=units, input_shape=input_shape, activation=activation))\n",
    "    model.add(Dense(1))\n",
    "    model.compile(loss='mean_squared_error', optimizer=optimizer)\n",
    "    return model\n",
    "\n",
    "# Wrap the Keras model for use with scikit-learn\n",
    "lstm_model = KerasClassifier(build_fn=create_lstm_model, epochs=10, batch_size=32, verbose=0)\n",
    "\n",
    "# Define the hyperparameters to search\n",
    "param_grid = {\n",
    "    'units': [50, 100],\n",
    "    'activation': ['sigmoid', 'relu'],\n",
    "    'optimizer': ['adam', 'rmsprop'],\n",
    "    'batch_size': [16, 32, 64],\n",
    "    'epochs': [10, 20],\n",
    "}\n",
    "\n",
    "# Create a grid search object\n",
    "grid = GridSearchCV(estimator=lstm_model, param_grid=param_grid, scoring='neg_mean_squared_error', cv=TimeSeriesSplit(n_splits=5))\n",
    "\n",
    "# Dummy input data (replace with your actual data)\n",
    "X_train = np.random.rand(100, 10, 1)\n",
    "y_train = np.random.rand(100, 1)\n",
    "\n",
    "# Perform the grid search\n",
    "grid_result = grid.fit(X_train, y_train)\n",
    "\n",
    "# Print the results\n",
    "print(\"Best parameters: \", grid_result.best_params_)\n",
    "print(\"Best score: \", grid_result.best_score_)"
   ]
  },
  {
   "cell_type": "markdown",
   "id": "ea25a034",
   "metadata": {},
   "source": [
    "---"
   ]
  },
  {
   "cell_type": "markdown",
   "id": "906f1ede",
   "metadata": {},
   "source": [
    "## III.&nbsp;Conclusions"
   ]
  },
  {
   "cell_type": "markdown",
   "id": "1da5e734",
   "metadata": {},
   "source": [
    "### 8.&nbsp;Evaluation"
   ]
  },
  {
   "cell_type": "markdown",
   "id": "664efc1d",
   "metadata": {},
   "source": [
    "#### 8.1&nbsp;Classifier Performance Evaluation"
   ]
  },
  {
   "cell_type": "markdown",
   "id": "91fd978e",
   "metadata": {},
   "source": [
    "Recall:\n",
    "   - Logistic Regression: 0.80\n",
    "   - SVM: 0.80\n",
    "   - Random Forest: 0.74\n",
    "   - LSTM: 0.78\n",
    "\n",
    "Precision:\n",
    "   - Logistic Regression: 0.83\n",
    "   - SVM: 0.80\n",
    "   - Random Forest: 0.80\n",
    "   - LSTM: 0.76\n",
    "\n",
    "F1 Score:\n",
    "   - Logistic Regression: 0.81\n",
    "   - SVM: 0.80\n",
    "   - Random Forest: 0.76\n",
    "   - LSTM: 0.77\n",
    "\n",
    "The classifiers, Logistic Regression and SVM, exhibit comparable recall performance with a value of 0.80, indicating their similar ability to correctly identify positive instances. Random Forest, while maintaining a reasonable recall of 0.74, shows a slightly lower ability to capture positive instances compared to the other classifiers. However, it compensates by excelling at identifying negative instances with a recall of 0.82. LSTM, with a recall of 0.76, also displays a lower ability to capture positive instances.\n",
    "\n",
    "Considering precision and F1 score for a more comprehensive evaluation, Logistic Regression and SVM stand out with higher precision and F1 scores. Random Forest maintains a commendable precision of 0.80 but exhibits a comparatively lower F1 score of 0.76, suggesting a potential imbalance between precision and recall. LSTM, with a precision of 0.76 and an F1 score of 0.77, does not perform as strongly in comparison.\n",
    "\n",
    "Prioritizing recall as a key metric, both Logistic Regression and SVM emerge as equally strong performers in this context. However, when considering precision and F1 score, Logistic Regression appears to be the most robust classifier for this application. Further investigation into misclassified instances and potential model improvements could yield even better results."
   ]
  },
  {
   "cell_type": "markdown",
   "id": "0d34ffc7",
   "metadata": {},
   "source": [
    "#### 8.2&nbsp;Classifier Evaluation vs HateSonar"
   ]
  },
  {
   "cell_type": "code",
   "execution_count": 67,
   "id": "b80077ab",
   "metadata": {},
   "outputs": [
    {
     "name": "stdout",
     "output_type": "stream",
     "text": [
      "Prediction: [1]\n",
      "Probability Scores: [[0.4938199 0.5061801]]\n"
     ]
    }
   ],
   "source": [
    "# Kindly note that I am a person of colour and I know the implications of even typing these words\n",
    "# This is not an excuse to use derogatory words\n",
    "\n",
    "# Load the trained vectorizer\n",
    "vectorizer = joblib.load('vectorizer.pkl')\n",
    "\n",
    "# Load the trained logistic regression model\n",
    "clf = joblib.load('lr_model.pkl')\n",
    "\n",
    "# Input text\n",
    "input_text = \"I do not care for n1gg3rs\"\n",
    "\n",
    "# Preprocess the input text using the vectorizer\n",
    "input_features = vectorizer.transform([input_text])\n",
    "\n",
    "# Predict using the logistic regression model\n",
    "prediction = clf.predict(input_features)\n",
    "\n",
    "# Probability scores\n",
    "probability_scores = clf.predict_proba(input_features)\n",
    "\n",
    "# Print the result\n",
    "print(f\"Prediction: {prediction}\")\n",
    "print(f\"Probability Scores: {probability_scores}\")"
   ]
  },
  {
   "cell_type": "code",
   "execution_count": 66,
   "id": "3d7f2ee5",
   "metadata": {
    "scrolled": true
   },
   "outputs": [
    {
     "data": {
      "text/plain": [
       "{'text': 'I do not care for n1gg3rs ',\n",
       " 'top_class': 'neither',\n",
       " 'classes': [{'class_name': 'hate_speech', 'confidence': 0.03218312815131801},\n",
       "  {'class_name': 'offensive_language', 'confidence': 0.29929873582102945},\n",
       "  {'class_name': 'neither', 'confidence': 0.6685181360276525}]}"
      ]
     },
     "execution_count": 66,
     "metadata": {},
     "output_type": "execute_result"
    }
   ],
   "source": [
    "sonar = Sonar()\n",
    "sonar.ping(text=\"I do not care for n1gg3rs \")"
   ]
  },
  {
   "cell_type": "markdown",
   "id": "5be053c0",
   "metadata": {},
   "source": [
    "### 9.&nbsp;Summary and Conclusions"
   ]
  },
  {
   "cell_type": "markdown",
   "id": "d0f9d547",
   "metadata": {},
   "source": [
    "#### 9.1&nbsp;Summary"
   ]
  },
  {
   "cell_type": "markdown",
   "id": "d1befd35",
   "metadata": {},
   "source": [
    "The study is centered around the development of a hate speech classifier, addressing the inherent challenges associated with text data. To counter the imbalance between hateful and non-hateful instances, a strategic preprocessing pipeline is implemented. This involves pooling instances from different datasets to create a more balanced representation. Subsequent natural language preprocessing techniques are applied, including the removal of emoticons, emojis, punctuation, usernames, hashtags, lemmatization, stop word removal, and spelling correction. Additionally, context-specific preprocessing, such as handling variations in letter usage for numerics and symbols, is undertaken.\n",
    "\n",
    "To establish a baseline performance, a Naive Bayes algorithm is employed. The classifier exhibits an 86% recall, highlighting its efficacy in correctly identifying instances of hateful text. The subsequent introduction of four diverse classifiers—logistic regression, SVM, random forest, and LSTM—further explores the landscape of hate speech classification. The choice of classifiers is motivated by their unique decision-making processes, ranging from simplicity and interpretability to the capacity to handle non-linearity and sequential dependencies in text data.\n",
    "\n",
    "However, despite comprehensive preprocessing and model selection, an exhaustive hyperparameter tuning process does not yield the anticipated improvements. Logistic regression and SVM consistently demonstrate comparable recall performance, standing out as strong performers. Random forest, while excelling in identifying negative instances, exhibits a slightly lower recall for positive instances. The LSTM model, designed for sequential data, presents a recall performance that falls in between. In light of the limited success of grid search optimization, the study explores alternative strategies for improving recall. This includes experimenting with different feature engineering techniques, exploring more sophisticated model architectures, and potentially incorporating ensemble methods. When compared with a common hate speech classifier, HateSonar, this calssifier accurately identifies hate speech with clever letter swapping."
   ]
  },
  {
   "cell_type": "markdown",
   "id": "3c81d0d2",
   "metadata": {},
   "source": [
    "#### 9.2&nbsp;Conclusions"
   ]
  },
  {
   "cell_type": "markdown",
   "id": "c093916c",
   "metadata": {},
   "source": [
    "The study reveals the intricacies of hate speech classification, highlighting the importance of diverse classifiers and thorough preprocessing. While Naive Bayes serves as a suitable baseline, logistic regression emerges as the most robust classifier, excelling in recall, precision, and F1 score. The challenges faced during hyperparameter tuning suggest the need for a broader approach, including innovative feature engineering and ensemble methods, to enhance recall performance. The findings underscore the complexities in optimizing hate speech classifiers and emphasize the ongoing need for research to improve model capabilities in identifying relevant patterns and minimizing misclassifications.\n",
    "\n",
    "Although this study classifies hate speech using simple classification techniques and performs better when words have been swapped against the HateSonar hate speech detector, it is essential to clarify that detecting hate speech involves more than just checking individual words—it often involves context, intent, and understanding the nuances of language which many simple classifiers are not be equipped to do."
   ]
  },
  {
   "cell_type": "markdown",
   "id": "f1f3554b",
   "metadata": {},
   "source": [
    "### 10.&nbsp;References"
   ]
  },
  {
   "cell_type": "markdown",
   "id": "6986eda7",
   "metadata": {},
   "source": [
    "1. Gitari, N.D., Zuping, Z., Damien, H. and Long, J., 2015. A lexicon-based approach for hate speech detection. International Journal of Multimedia and Ubiquitous Engineering, 10(4), pp.215-230.\n",
    "2. Fortuna, P. and Nunes, S., 2018. A survey on automatic detection of hate speech in text. ACM Computing Surveys (CSUR), 51(4), pp.1-30.\n",
    "3. Mohiyaddeen, Mr. and Siddiqi, Sifatullah, Automatic Hate Speech Detection: A Literature Review (July 15, 2021). Available at SSRN: https://ssrn.com/abstract=3887383 or http://dx.doi.org/10.2139/ssrn.3887383.\n",
    "4. González-Pizarro, F. and Zannettou, S., 2023, June. Understanding and detecting hateful content using contrastive learning. In Proceedings of the International AAAI Conference on Web and Social Media (Vol. 17, pp. 257-268).\n",
    "5. Davidson, T., Bhattacharya, D. and Weber, I., 2019. Racial bias in hate speech and abusive language detection datasets. arXiv preprint arXiv:1905.12516.\n",
    "6. Kwarteng, J., Perfumi, S.C., Farrell, T., Third, A. and Fernandez, M., 2022. Misogynoir: challenges in detecting intersectional hate. Social Network Analysis and Mining, 12(1), p.166."
   ]
  }
 ],
 "metadata": {
  "kernelspec": {
   "display_name": "Python 3 (ipykernel)",
   "language": "python",
   "name": "python3"
  },
  "language_info": {
   "codemirror_mode": {
    "name": "ipython",
    "version": 3
   },
   "file_extension": ".py",
   "mimetype": "text/x-python",
   "name": "python",
   "nbconvert_exporter": "python",
   "pygments_lexer": "ipython3",
   "version": "3.7.16"
  }
 },
 "nbformat": 4,
 "nbformat_minor": 5
}
