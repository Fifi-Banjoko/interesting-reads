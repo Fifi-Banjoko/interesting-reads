{
 "cells": [
  {
   "cell_type": "code",
   "execution_count": 1,
   "id": "6dd84200-b735-474c-a2c5-11d9fb5cea68",
   "metadata": {},
   "outputs": [],
   "source": [
    "## BINARY CLASSIFICATION OF MOVIE REVIEWS\n",
    "### IMDB DATASET"
   ]
  },
  {
   "cell_type": "code",
   "execution_count": null,
   "id": "157ed3e3-1d14-4499-96eb-c0818574e7d6",
   "metadata": {},
   "outputs": [],
   "source": [
    "from keras.datasets import imdb"
   ]
  },
  {
   "cell_type": "code",
   "execution_count": null,
   "id": "11fd287a-97fb-4af8-b015-f8d108b69e21",
   "metadata": {},
   "outputs": [],
   "source": []
  }
 ],
 "metadata": {
  "kernelspec": {
   "display_name": "Python 3 (ipykernel)",
   "language": "python",
   "name": "python3"
  },
  "language_info": {
   "codemirror_mode": {
    "name": "ipython",
    "version": 3
   },
   "file_extension": ".py",
   "mimetype": "text/x-python",
   "name": "python",
   "nbconvert_exporter": "python",
   "pygments_lexer": "ipython3",
   "version": "3.9.18"
  }
 },
 "nbformat": 4,
 "nbformat_minor": 5
}
